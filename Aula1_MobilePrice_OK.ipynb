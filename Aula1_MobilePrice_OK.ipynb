{
  "nbformat": 4,
  "nbformat_minor": 0,
  "metadata": {
    "colab": {
      "name": "Aula1_RN.ipynb",
      "provenance": [],
      "collapsed_sections": [],
      "include_colab_link": true
    },
    "kernelspec": {
      "name": "python3",
      "display_name": "Python 3"
    },
    "accelerator": "TPU"
  },
  "cells": [
    {
      "cell_type": "markdown",
      "metadata": {
        "id": "view-in-github",
        "colab_type": "text"
      },
      "source": [
        "<a href=\"https://colab.research.google.com/github/YUCAVALCANTE/IA_PUC/blob/master/Aula1_MobilePrice_OK.ipynb\" target=\"_parent\"><img src=\"https://colab.research.google.com/assets/colab-badge.svg\" alt=\"Open In Colab\"/></a>"
      ]
    },
    {
      "cell_type": "markdown",
      "metadata": {
        "id": "DdqJg1YKmjXC",
        "colab_type": "text"
      },
      "source": [
        "# INICIALIZAÇÃO"
      ]
    },
    {
      "cell_type": "code",
      "metadata": {
        "id": "40s5D_N030lZ",
        "colab_type": "code",
        "outputId": "b620a349-45db-4867-b5ad-9c334fb6009d",
        "colab": {
          "base_uri": "https://localhost:8080/",
          "height": 122
        }
      },
      "source": [
        "#para conectar ao Drive\n",
        "from google.colab import drive # Carrega biblioteca para montar e carregar drive\n",
        "drive.mount('/content/drive') # Esse código pedirá autenticação\n"
      ],
      "execution_count": 2,
      "outputs": [
        {
          "output_type": "stream",
          "text": [
            "Go to this URL in a browser: https://accounts.google.com/o/oauth2/auth?client_",
            "\n",
            "Enter your authorization code:\n",
            "··········\n",
            "Mounted at /content/drive\n"
          ],
          "name": "stdout"
        }
      ]
    },
    {
      "cell_type": "code",
      "metadata": {
        "id": "a5TCQhMB4RmV",
        "colab_type": "code",
        "colab": {}
      },
      "source": [
        "import os\n",
        "os.chdir(\"/content/drive/My Drive/#coloque o seu endereço\")\n"
      ],
      "execution_count": 0,
      "outputs": []
    },
    {
      "cell_type": "code",
      "metadata": {
        "id": "669ANL8dWQ4h",
        "colab_type": "code",
        "outputId": "65897cb6-ae2c-4f66-d54f-3b8c33b56485",
        "colab": {
          "base_uri": "https://localhost:8080/",
          "height": 34
        }
      },
      "source": [
        "!ls "
      ],
      "execution_count": 4,
      "outputs": [
        {
          "output_type": "stream",
          "text": [
            "Aula1_RN.ipynb\tBreastCancer.csv  draw_neural_net.py  mobile.csv  __pycache__\n"
          ],
          "name": "stdout"
        }
      ]
    },
    {
      "cell_type": "markdown",
      "metadata": {
        "id": "ESwS4GPDmzhy",
        "colab_type": "text"
      },
      "source": [
        "### Importacao de bibliotecas"
      ]
    },
    {
      "cell_type": "code",
      "metadata": {
        "id": "keXOY9uF5FbU",
        "colab_type": "code",
        "colab": {}
      },
      "source": [
        "import numpy as np\n",
        "import pandas as pd\n",
        "import matplotlib.pyplot as plt"
      ],
      "execution_count": 0,
      "outputs": []
    },
    {
      "cell_type": "code",
      "metadata": {
        "id": "s2HHPi4qpWOJ",
        "colab_type": "code",
        "outputId": "36c3c78a-1812-422d-b7ee-8de6ba7ac730",
        "colab": {
          "base_uri": "https://localhost:8080/",
          "height": 204
        }
      },
      "source": [
        "#Carregar a base e visualizar primeiras linhas\n",
        "df1 = pd.read_csv('mobile.csv', header=0)  #header=-1 indica que não há linha de header\n",
        "df1.head()"
      ],
      "execution_count": 6,
      "outputs": [
        {
          "output_type": "execute_result",
          "data": {
            "text/html": [
              "<div>\n",
              "<style scoped>\n",
              "    .dataframe tbody tr th:only-of-type {\n",
              "        vertical-align: middle;\n",
              "    }\n",
              "\n",
              "    .dataframe tbody tr th {\n",
              "        vertical-align: top;\n",
              "    }\n",
              "\n",
              "    .dataframe thead th {\n",
              "        text-align: right;\n",
              "    }\n",
              "</style>\n",
              "<table border=\"1\" class=\"dataframe\">\n",
              "  <thead>\n",
              "    <tr style=\"text-align: right;\">\n",
              "      <th></th>\n",
              "      <th>battery_power</th>\n",
              "      <th>blue</th>\n",
              "      <th>clock_speed</th>\n",
              "      <th>dual_sim</th>\n",
              "      <th>fc</th>\n",
              "      <th>four_g</th>\n",
              "      <th>int_memory</th>\n",
              "      <th>m_dep</th>\n",
              "      <th>mobile_wt</th>\n",
              "      <th>n_cores</th>\n",
              "      <th>pc</th>\n",
              "      <th>px_height</th>\n",
              "      <th>px_width</th>\n",
              "      <th>ram</th>\n",
              "      <th>sc_h</th>\n",
              "      <th>sc_w</th>\n",
              "      <th>talk_time</th>\n",
              "      <th>three_g</th>\n",
              "      <th>touch_screen</th>\n",
              "      <th>wifi</th>\n",
              "      <th>price_range</th>\n",
              "    </tr>\n",
              "  </thead>\n",
              "  <tbody>\n",
              "    <tr>\n",
              "      <th>0</th>\n",
              "      <td>842</td>\n",
              "      <td>0</td>\n",
              "      <td>2.2</td>\n",
              "      <td>0</td>\n",
              "      <td>1</td>\n",
              "      <td>0</td>\n",
              "      <td>7</td>\n",
              "      <td>0.6</td>\n",
              "      <td>188</td>\n",
              "      <td>2</td>\n",
              "      <td>2</td>\n",
              "      <td>20</td>\n",
              "      <td>756</td>\n",
              "      <td>2549</td>\n",
              "      <td>9</td>\n",
              "      <td>7</td>\n",
              "      <td>19</td>\n",
              "      <td>0</td>\n",
              "      <td>0</td>\n",
              "      <td>1</td>\n",
              "      <td>1</td>\n",
              "    </tr>\n",
              "    <tr>\n",
              "      <th>1</th>\n",
              "      <td>1021</td>\n",
              "      <td>1</td>\n",
              "      <td>0.5</td>\n",
              "      <td>1</td>\n",
              "      <td>0</td>\n",
              "      <td>1</td>\n",
              "      <td>53</td>\n",
              "      <td>0.7</td>\n",
              "      <td>136</td>\n",
              "      <td>3</td>\n",
              "      <td>6</td>\n",
              "      <td>905</td>\n",
              "      <td>1988</td>\n",
              "      <td>2631</td>\n",
              "      <td>17</td>\n",
              "      <td>3</td>\n",
              "      <td>7</td>\n",
              "      <td>1</td>\n",
              "      <td>1</td>\n",
              "      <td>0</td>\n",
              "      <td>2</td>\n",
              "    </tr>\n",
              "    <tr>\n",
              "      <th>2</th>\n",
              "      <td>563</td>\n",
              "      <td>1</td>\n",
              "      <td>0.5</td>\n",
              "      <td>1</td>\n",
              "      <td>2</td>\n",
              "      <td>1</td>\n",
              "      <td>41</td>\n",
              "      <td>0.9</td>\n",
              "      <td>145</td>\n",
              "      <td>5</td>\n",
              "      <td>6</td>\n",
              "      <td>1263</td>\n",
              "      <td>1716</td>\n",
              "      <td>2603</td>\n",
              "      <td>11</td>\n",
              "      <td>2</td>\n",
              "      <td>9</td>\n",
              "      <td>1</td>\n",
              "      <td>1</td>\n",
              "      <td>0</td>\n",
              "      <td>2</td>\n",
              "    </tr>\n",
              "    <tr>\n",
              "      <th>3</th>\n",
              "      <td>615</td>\n",
              "      <td>1</td>\n",
              "      <td>2.5</td>\n",
              "      <td>0</td>\n",
              "      <td>0</td>\n",
              "      <td>0</td>\n",
              "      <td>10</td>\n",
              "      <td>0.8</td>\n",
              "      <td>131</td>\n",
              "      <td>6</td>\n",
              "      <td>9</td>\n",
              "      <td>1216</td>\n",
              "      <td>1786</td>\n",
              "      <td>2769</td>\n",
              "      <td>16</td>\n",
              "      <td>8</td>\n",
              "      <td>11</td>\n",
              "      <td>1</td>\n",
              "      <td>0</td>\n",
              "      <td>0</td>\n",
              "      <td>2</td>\n",
              "    </tr>\n",
              "    <tr>\n",
              "      <th>4</th>\n",
              "      <td>1821</td>\n",
              "      <td>1</td>\n",
              "      <td>1.2</td>\n",
              "      <td>0</td>\n",
              "      <td>13</td>\n",
              "      <td>1</td>\n",
              "      <td>44</td>\n",
              "      <td>0.6</td>\n",
              "      <td>141</td>\n",
              "      <td>2</td>\n",
              "      <td>14</td>\n",
              "      <td>1208</td>\n",
              "      <td>1212</td>\n",
              "      <td>1411</td>\n",
              "      <td>8</td>\n",
              "      <td>2</td>\n",
              "      <td>15</td>\n",
              "      <td>1</td>\n",
              "      <td>1</td>\n",
              "      <td>0</td>\n",
              "      <td>1</td>\n",
              "    </tr>\n",
              "  </tbody>\n",
              "</table>\n",
              "</div>"
            ],
            "text/plain": [
              "   battery_power  blue  clock_speed  ...  touch_screen  wifi  price_range\n",
              "0            842     0          2.2  ...             0     1            1\n",
              "1           1021     1          0.5  ...             1     0            2\n",
              "2            563     1          0.5  ...             1     0            2\n",
              "3            615     1          2.5  ...             0     0            2\n",
              "4           1821     1          1.2  ...             1     0            1\n",
              "\n",
              "[5 rows x 21 columns]"
            ]
          },
          "metadata": {
            "tags": []
          },
          "execution_count": 6
        }
      ]
    },
    {
      "cell_type": "code",
      "metadata": {
        "id": "SEjjJD0NMojn",
        "colab_type": "code",
        "outputId": "94ab3974-e018-41e6-899c-f5f3ff2faf37",
        "colab": {
          "base_uri": "https://localhost:8080/",
          "height": 34
        }
      },
      "source": [
        "#dimnesões da base\n",
        "df1.shape"
      ],
      "execution_count": 7,
      "outputs": [
        {
          "output_type": "execute_result",
          "data": {
            "text/plain": [
              "(2000, 21)"
            ]
          },
          "metadata": {
            "tags": []
          },
          "execution_count": 7
        }
      ]
    },
    {
      "cell_type": "markdown",
      "metadata": {
        "id": "QDFVV_pSrXIa",
        "colab_type": "text"
      },
      "source": [
        "### Indicando qual coluna será rotulada (label)"
      ]
    },
    {
      "cell_type": "code",
      "metadata": {
        "id": "5dtzPtZzMufg",
        "colab_type": "code",
        "outputId": "779cbd21-b33a-43ff-f762-4824d0515af5",
        "colab": {
          "base_uri": "https://localhost:8080/",
          "height": 391
        }
      },
      "source": [
        "#tipos das colunas\n",
        "df1.dtypes"
      ],
      "execution_count": 8,
      "outputs": [
        {
          "output_type": "execute_result",
          "data": {
            "text/plain": [
              "battery_power      int64\n",
              "blue               int64\n",
              "clock_speed      float64\n",
              "dual_sim           int64\n",
              "fc                 int64\n",
              "four_g             int64\n",
              "int_memory         int64\n",
              "m_dep            float64\n",
              "mobile_wt          int64\n",
              "n_cores            int64\n",
              "pc                 int64\n",
              "px_height          int64\n",
              "px_width           int64\n",
              "ram                int64\n",
              "sc_h               int64\n",
              "sc_w               int64\n",
              "talk_time          int64\n",
              "three_g            int64\n",
              "touch_screen       int64\n",
              "wifi               int64\n",
              "price_range        int64\n",
              "dtype: object"
            ]
          },
          "metadata": {
            "tags": []
          },
          "execution_count": 8
        }
      ]
    },
    {
      "cell_type": "code",
      "metadata": {
        "id": "oZdHYhEKq75N",
        "colab_type": "code",
        "outputId": "2abc7c2c-55a7-429e-8c59-85894df3b4b9",
        "colab": {
          "base_uri": "https://localhost:8080/",
          "height": 204
        }
      },
      "source": [
        "#conversão da coluna da classe em categórico\n",
        "df1['price_range'] = df1['price_range'].astype('category')\n",
        "df1.head()"
      ],
      "execution_count": 9,
      "outputs": [
        {
          "output_type": "execute_result",
          "data": {
            "text/html": [
              "<div>\n",
              "<style scoped>\n",
              "    .dataframe tbody tr th:only-of-type {\n",
              "        vertical-align: middle;\n",
              "    }\n",
              "\n",
              "    .dataframe tbody tr th {\n",
              "        vertical-align: top;\n",
              "    }\n",
              "\n",
              "    .dataframe thead th {\n",
              "        text-align: right;\n",
              "    }\n",
              "</style>\n",
              "<table border=\"1\" class=\"dataframe\">\n",
              "  <thead>\n",
              "    <tr style=\"text-align: right;\">\n",
              "      <th></th>\n",
              "      <th>battery_power</th>\n",
              "      <th>blue</th>\n",
              "      <th>clock_speed</th>\n",
              "      <th>dual_sim</th>\n",
              "      <th>fc</th>\n",
              "      <th>four_g</th>\n",
              "      <th>int_memory</th>\n",
              "      <th>m_dep</th>\n",
              "      <th>mobile_wt</th>\n",
              "      <th>n_cores</th>\n",
              "      <th>pc</th>\n",
              "      <th>px_height</th>\n",
              "      <th>px_width</th>\n",
              "      <th>ram</th>\n",
              "      <th>sc_h</th>\n",
              "      <th>sc_w</th>\n",
              "      <th>talk_time</th>\n",
              "      <th>three_g</th>\n",
              "      <th>touch_screen</th>\n",
              "      <th>wifi</th>\n",
              "      <th>price_range</th>\n",
              "    </tr>\n",
              "  </thead>\n",
              "  <tbody>\n",
              "    <tr>\n",
              "      <th>0</th>\n",
              "      <td>842</td>\n",
              "      <td>0</td>\n",
              "      <td>2.2</td>\n",
              "      <td>0</td>\n",
              "      <td>1</td>\n",
              "      <td>0</td>\n",
              "      <td>7</td>\n",
              "      <td>0.6</td>\n",
              "      <td>188</td>\n",
              "      <td>2</td>\n",
              "      <td>2</td>\n",
              "      <td>20</td>\n",
              "      <td>756</td>\n",
              "      <td>2549</td>\n",
              "      <td>9</td>\n",
              "      <td>7</td>\n",
              "      <td>19</td>\n",
              "      <td>0</td>\n",
              "      <td>0</td>\n",
              "      <td>1</td>\n",
              "      <td>1</td>\n",
              "    </tr>\n",
              "    <tr>\n",
              "      <th>1</th>\n",
              "      <td>1021</td>\n",
              "      <td>1</td>\n",
              "      <td>0.5</td>\n",
              "      <td>1</td>\n",
              "      <td>0</td>\n",
              "      <td>1</td>\n",
              "      <td>53</td>\n",
              "      <td>0.7</td>\n",
              "      <td>136</td>\n",
              "      <td>3</td>\n",
              "      <td>6</td>\n",
              "      <td>905</td>\n",
              "      <td>1988</td>\n",
              "      <td>2631</td>\n",
              "      <td>17</td>\n",
              "      <td>3</td>\n",
              "      <td>7</td>\n",
              "      <td>1</td>\n",
              "      <td>1</td>\n",
              "      <td>0</td>\n",
              "      <td>2</td>\n",
              "    </tr>\n",
              "    <tr>\n",
              "      <th>2</th>\n",
              "      <td>563</td>\n",
              "      <td>1</td>\n",
              "      <td>0.5</td>\n",
              "      <td>1</td>\n",
              "      <td>2</td>\n",
              "      <td>1</td>\n",
              "      <td>41</td>\n",
              "      <td>0.9</td>\n",
              "      <td>145</td>\n",
              "      <td>5</td>\n",
              "      <td>6</td>\n",
              "      <td>1263</td>\n",
              "      <td>1716</td>\n",
              "      <td>2603</td>\n",
              "      <td>11</td>\n",
              "      <td>2</td>\n",
              "      <td>9</td>\n",
              "      <td>1</td>\n",
              "      <td>1</td>\n",
              "      <td>0</td>\n",
              "      <td>2</td>\n",
              "    </tr>\n",
              "    <tr>\n",
              "      <th>3</th>\n",
              "      <td>615</td>\n",
              "      <td>1</td>\n",
              "      <td>2.5</td>\n",
              "      <td>0</td>\n",
              "      <td>0</td>\n",
              "      <td>0</td>\n",
              "      <td>10</td>\n",
              "      <td>0.8</td>\n",
              "      <td>131</td>\n",
              "      <td>6</td>\n",
              "      <td>9</td>\n",
              "      <td>1216</td>\n",
              "      <td>1786</td>\n",
              "      <td>2769</td>\n",
              "      <td>16</td>\n",
              "      <td>8</td>\n",
              "      <td>11</td>\n",
              "      <td>1</td>\n",
              "      <td>0</td>\n",
              "      <td>0</td>\n",
              "      <td>2</td>\n",
              "    </tr>\n",
              "    <tr>\n",
              "      <th>4</th>\n",
              "      <td>1821</td>\n",
              "      <td>1</td>\n",
              "      <td>1.2</td>\n",
              "      <td>0</td>\n",
              "      <td>13</td>\n",
              "      <td>1</td>\n",
              "      <td>44</td>\n",
              "      <td>0.6</td>\n",
              "      <td>141</td>\n",
              "      <td>2</td>\n",
              "      <td>14</td>\n",
              "      <td>1208</td>\n",
              "      <td>1212</td>\n",
              "      <td>1411</td>\n",
              "      <td>8</td>\n",
              "      <td>2</td>\n",
              "      <td>15</td>\n",
              "      <td>1</td>\n",
              "      <td>1</td>\n",
              "      <td>0</td>\n",
              "      <td>1</td>\n",
              "    </tr>\n",
              "  </tbody>\n",
              "</table>\n",
              "</div>"
            ],
            "text/plain": [
              "   battery_power  blue  clock_speed  ...  touch_screen  wifi  price_range\n",
              "0            842     0          2.2  ...             0     1            1\n",
              "1           1021     1          0.5  ...             1     0            2\n",
              "2            563     1          0.5  ...             1     0            2\n",
              "3            615     1          2.5  ...             0     0            2\n",
              "4           1821     1          1.2  ...             1     0            1\n",
              "\n",
              "[5 rows x 21 columns]"
            ]
          },
          "metadata": {
            "tags": []
          },
          "execution_count": 9
        }
      ]
    },
    {
      "cell_type": "code",
      "metadata": {
        "id": "es_-kJ3oYkY1",
        "colab_type": "code",
        "outputId": "c4a34ff4-07f0-41bc-f61e-e009c022051e",
        "colab": {
          "base_uri": "https://localhost:8080/",
          "height": 34
        }
      },
      "source": [
        "#tipo da classe após a conversão\n",
        "df1['price_range'].dtypes"
      ],
      "execution_count": 10,
      "outputs": [
        {
          "output_type": "execute_result",
          "data": {
            "text/plain": [
              "CategoricalDtype(categories=[0, 1, 2, 3], ordered=False)"
            ]
          },
          "metadata": {
            "tags": []
          },
          "execution_count": 10
        }
      ]
    },
    {
      "cell_type": "markdown",
      "metadata": {
        "id": "MbmhtkuUtklE",
        "colab_type": "text"
      },
      "source": [
        "### Indicar a semente inicial e para divisão da base em treino e teste"
      ]
    },
    {
      "cell_type": "code",
      "metadata": {
        "id": "NQRJeOzItu5b",
        "colab_type": "code",
        "colab": {}
      },
      "source": [
        "import random\n",
        "np.random.seed(0) #semente inicial\n",
        "nlinhas = df1.shape[0]"
      ],
      "execution_count": 0,
      "outputs": []
    },
    {
      "cell_type": "code",
      "metadata": {
        "id": "ytXEwoJ_EW5D",
        "colab_type": "code",
        "colab": {}
      },
      "source": [
        "from sklearn.model_selection import train_test_split #30%para teste (0.3)\n",
        "x_train, x_test, y_train, y_test = train_test_split(df1.loc[:,df1.columns != 'price_range'], df1['price_range'], test_size=0.3)"
      ],
      "execution_count": 0,
      "outputs": []
    },
    {
      "cell_type": "code",
      "metadata": {
        "id": "QG3hBLbc0CM5",
        "colab_type": "code",
        "outputId": "ad336ed3-cecf-47ca-afcc-9d216ad7d4b7",
        "colab": {
          "base_uri": "https://localhost:8080/",
          "height": 204
        }
      },
      "source": [
        "x_train.head()"
      ],
      "execution_count": 13,
      "outputs": [
        {
          "output_type": "execute_result",
          "data": {
            "text/html": [
              "<div>\n",
              "<style scoped>\n",
              "    .dataframe tbody tr th:only-of-type {\n",
              "        vertical-align: middle;\n",
              "    }\n",
              "\n",
              "    .dataframe tbody tr th {\n",
              "        vertical-align: top;\n",
              "    }\n",
              "\n",
              "    .dataframe thead th {\n",
              "        text-align: right;\n",
              "    }\n",
              "</style>\n",
              "<table border=\"1\" class=\"dataframe\">\n",
              "  <thead>\n",
              "    <tr style=\"text-align: right;\">\n",
              "      <th></th>\n",
              "      <th>battery_power</th>\n",
              "      <th>blue</th>\n",
              "      <th>clock_speed</th>\n",
              "      <th>dual_sim</th>\n",
              "      <th>fc</th>\n",
              "      <th>four_g</th>\n",
              "      <th>int_memory</th>\n",
              "      <th>m_dep</th>\n",
              "      <th>mobile_wt</th>\n",
              "      <th>n_cores</th>\n",
              "      <th>pc</th>\n",
              "      <th>px_height</th>\n",
              "      <th>px_width</th>\n",
              "      <th>ram</th>\n",
              "      <th>sc_h</th>\n",
              "      <th>sc_w</th>\n",
              "      <th>talk_time</th>\n",
              "      <th>three_g</th>\n",
              "      <th>touch_screen</th>\n",
              "      <th>wifi</th>\n",
              "    </tr>\n",
              "  </thead>\n",
              "  <tbody>\n",
              "    <tr>\n",
              "      <th>1719</th>\n",
              "      <td>833</td>\n",
              "      <td>1</td>\n",
              "      <td>0.6</td>\n",
              "      <td>1</td>\n",
              "      <td>0</td>\n",
              "      <td>1</td>\n",
              "      <td>27</td>\n",
              "      <td>0.3</td>\n",
              "      <td>145</td>\n",
              "      <td>4</td>\n",
              "      <td>2</td>\n",
              "      <td>649</td>\n",
              "      <td>1290</td>\n",
              "      <td>586</td>\n",
              "      <td>19</td>\n",
              "      <td>8</td>\n",
              "      <td>19</td>\n",
              "      <td>1</td>\n",
              "      <td>0</td>\n",
              "      <td>1</td>\n",
              "    </tr>\n",
              "    <tr>\n",
              "      <th>1702</th>\n",
              "      <td>1424</td>\n",
              "      <td>1</td>\n",
              "      <td>2.9</td>\n",
              "      <td>1</td>\n",
              "      <td>0</td>\n",
              "      <td>0</td>\n",
              "      <td>20</td>\n",
              "      <td>0.6</td>\n",
              "      <td>180</td>\n",
              "      <td>5</td>\n",
              "      <td>0</td>\n",
              "      <td>181</td>\n",
              "      <td>1199</td>\n",
              "      <td>2658</td>\n",
              "      <td>15</td>\n",
              "      <td>0</td>\n",
              "      <td>19</td>\n",
              "      <td>1</td>\n",
              "      <td>0</td>\n",
              "      <td>0</td>\n",
              "    </tr>\n",
              "    <tr>\n",
              "      <th>1287</th>\n",
              "      <td>860</td>\n",
              "      <td>1</td>\n",
              "      <td>1.3</td>\n",
              "      <td>1</td>\n",
              "      <td>1</td>\n",
              "      <td>1</td>\n",
              "      <td>49</td>\n",
              "      <td>0.7</td>\n",
              "      <td>141</td>\n",
              "      <td>6</td>\n",
              "      <td>13</td>\n",
              "      <td>692</td>\n",
              "      <td>979</td>\n",
              "      <td>3869</td>\n",
              "      <td>16</td>\n",
              "      <td>14</td>\n",
              "      <td>20</td>\n",
              "      <td>1</td>\n",
              "      <td>1</td>\n",
              "      <td>1</td>\n",
              "    </tr>\n",
              "    <tr>\n",
              "      <th>482</th>\n",
              "      <td>1330</td>\n",
              "      <td>1</td>\n",
              "      <td>1.3</td>\n",
              "      <td>1</td>\n",
              "      <td>14</td>\n",
              "      <td>0</td>\n",
              "      <td>3</td>\n",
              "      <td>0.3</td>\n",
              "      <td>83</td>\n",
              "      <td>5</td>\n",
              "      <td>17</td>\n",
              "      <td>980</td>\n",
              "      <td>1262</td>\n",
              "      <td>463</td>\n",
              "      <td>14</td>\n",
              "      <td>6</td>\n",
              "      <td>11</td>\n",
              "      <td>0</td>\n",
              "      <td>0</td>\n",
              "      <td>1</td>\n",
              "    </tr>\n",
              "    <tr>\n",
              "      <th>768</th>\n",
              "      <td>1149</td>\n",
              "      <td>1</td>\n",
              "      <td>2.2</td>\n",
              "      <td>0</td>\n",
              "      <td>4</td>\n",
              "      <td>0</td>\n",
              "      <td>30</td>\n",
              "      <td>0.2</td>\n",
              "      <td>106</td>\n",
              "      <td>6</td>\n",
              "      <td>5</td>\n",
              "      <td>1617</td>\n",
              "      <td>1675</td>\n",
              "      <td>3755</td>\n",
              "      <td>17</td>\n",
              "      <td>14</td>\n",
              "      <td>8</td>\n",
              "      <td>1</td>\n",
              "      <td>0</td>\n",
              "      <td>0</td>\n",
              "    </tr>\n",
              "  </tbody>\n",
              "</table>\n",
              "</div>"
            ],
            "text/plain": [
              "      battery_power  blue  clock_speed  ...  three_g  touch_screen  wifi\n",
              "1719            833     1          0.6  ...        1             0     1\n",
              "1702           1424     1          2.9  ...        1             0     0\n",
              "1287            860     1          1.3  ...        1             1     1\n",
              "482            1330     1          1.3  ...        0             0     1\n",
              "768            1149     1          2.2  ...        1             0     0\n",
              "\n",
              "[5 rows x 20 columns]"
            ]
          },
          "metadata": {
            "tags": []
          },
          "execution_count": 13
        }
      ]
    },
    {
      "cell_type": "code",
      "metadata": {
        "id": "GXgZeDm8v4WW",
        "colab_type": "code",
        "outputId": "72a975c6-7977-4e48-815e-077c014425b3",
        "colab": {
          "base_uri": "https://localhost:8080/",
          "height": 34
        }
      },
      "source": [
        "x_train.shape #numero de lista que fora do teste"
      ],
      "execution_count": 14,
      "outputs": [
        {
          "output_type": "execute_result",
          "data": {
            "text/plain": [
              "(1400, 20)"
            ]
          },
          "metadata": {
            "tags": []
          },
          "execution_count": 14
        }
      ]
    },
    {
      "cell_type": "code",
      "metadata": {
        "id": "NkZqsBRJwDqn",
        "colab_type": "code",
        "outputId": "b17de1bc-b666-42f6-b8cb-eeba612977de",
        "colab": {
          "base_uri": "https://localhost:8080/",
          "height": 34
        }
      },
      "source": [
        "x_test.shape #numero de lista que entrou no teste"
      ],
      "execution_count": 15,
      "outputs": [
        {
          "output_type": "execute_result",
          "data": {
            "text/plain": [
              "(600, 20)"
            ]
          },
          "metadata": {
            "tags": []
          },
          "execution_count": 15
        }
      ]
    },
    {
      "cell_type": "code",
      "metadata": {
        "id": "4iZMOC_etTqN",
        "colab_type": "code",
        "colab": {
          "base_uri": "https://localhost:8080/",
          "height": 317
        },
        "outputId": "1dfbe238-c45b-441b-f59d-61dd132369ad"
      },
      "source": [
        "# alguns dados estatisticos por atributo\n",
        "x_train.describe()"
      ],
      "execution_count": 16,
      "outputs": [
        {
          "output_type": "execute_result",
          "data": {
            "text/html": [
              "<div>\n",
              "<style scoped>\n",
              "    .dataframe tbody tr th:only-of-type {\n",
              "        vertical-align: middle;\n",
              "    }\n",
              "\n",
              "    .dataframe tbody tr th {\n",
              "        vertical-align: top;\n",
              "    }\n",
              "\n",
              "    .dataframe thead th {\n",
              "        text-align: right;\n",
              "    }\n",
              "</style>\n",
              "<table border=\"1\" class=\"dataframe\">\n",
              "  <thead>\n",
              "    <tr style=\"text-align: right;\">\n",
              "      <th></th>\n",
              "      <th>battery_power</th>\n",
              "      <th>blue</th>\n",
              "      <th>clock_speed</th>\n",
              "      <th>dual_sim</th>\n",
              "      <th>fc</th>\n",
              "      <th>four_g</th>\n",
              "      <th>int_memory</th>\n",
              "      <th>m_dep</th>\n",
              "      <th>mobile_wt</th>\n",
              "      <th>n_cores</th>\n",
              "      <th>pc</th>\n",
              "      <th>px_height</th>\n",
              "      <th>px_width</th>\n",
              "      <th>ram</th>\n",
              "      <th>sc_h</th>\n",
              "      <th>sc_w</th>\n",
              "      <th>talk_time</th>\n",
              "      <th>three_g</th>\n",
              "      <th>touch_screen</th>\n",
              "      <th>wifi</th>\n",
              "    </tr>\n",
              "  </thead>\n",
              "  <tbody>\n",
              "    <tr>\n",
              "      <th>count</th>\n",
              "      <td>1400.000000</td>\n",
              "      <td>1400.000000</td>\n",
              "      <td>1400.000000</td>\n",
              "      <td>1400.000000</td>\n",
              "      <td>1400.000000</td>\n",
              "      <td>1400.000000</td>\n",
              "      <td>1400.000000</td>\n",
              "      <td>1400.000000</td>\n",
              "      <td>1400.000000</td>\n",
              "      <td>1400.000000</td>\n",
              "      <td>1400.000000</td>\n",
              "      <td>1400.000000</td>\n",
              "      <td>1400.000000</td>\n",
              "      <td>1400.000000</td>\n",
              "      <td>1400.000000</td>\n",
              "      <td>1400.000000</td>\n",
              "      <td>1400.000000</td>\n",
              "      <td>1400.000000</td>\n",
              "      <td>1400.000000</td>\n",
              "      <td>1400.000000</td>\n",
              "    </tr>\n",
              "    <tr>\n",
              "      <th>mean</th>\n",
              "      <td>1234.733571</td>\n",
              "      <td>0.494286</td>\n",
              "      <td>1.550214</td>\n",
              "      <td>0.514286</td>\n",
              "      <td>4.202143</td>\n",
              "      <td>0.523571</td>\n",
              "      <td>31.820000</td>\n",
              "      <td>0.504429</td>\n",
              "      <td>139.458571</td>\n",
              "      <td>4.516429</td>\n",
              "      <td>9.806429</td>\n",
              "      <td>659.709286</td>\n",
              "      <td>1264.751429</td>\n",
              "      <td>2102.074286</td>\n",
              "      <td>12.314286</td>\n",
              "      <td>5.838571</td>\n",
              "      <td>10.980714</td>\n",
              "      <td>0.764286</td>\n",
              "      <td>0.493571</td>\n",
              "      <td>0.509286</td>\n",
              "    </tr>\n",
              "    <tr>\n",
              "      <th>std</th>\n",
              "      <td>442.140136</td>\n",
              "      <td>0.500146</td>\n",
              "      <td>0.815758</td>\n",
              "      <td>0.499974</td>\n",
              "      <td>4.306668</td>\n",
              "      <td>0.499623</td>\n",
              "      <td>18.373277</td>\n",
              "      <td>0.288538</td>\n",
              "      <td>35.323154</td>\n",
              "      <td>2.273574</td>\n",
              "      <td>6.058362</td>\n",
              "      <td>444.851864</td>\n",
              "      <td>430.891660</td>\n",
              "      <td>1073.457393</td>\n",
              "      <td>4.163365</td>\n",
              "      <td>4.411914</td>\n",
              "      <td>5.491333</td>\n",
              "      <td>0.424596</td>\n",
              "      <td>0.500137</td>\n",
              "      <td>0.500092</td>\n",
              "    </tr>\n",
              "    <tr>\n",
              "      <th>min</th>\n",
              "      <td>501.000000</td>\n",
              "      <td>0.000000</td>\n",
              "      <td>0.500000</td>\n",
              "      <td>0.000000</td>\n",
              "      <td>0.000000</td>\n",
              "      <td>0.000000</td>\n",
              "      <td>2.000000</td>\n",
              "      <td>0.100000</td>\n",
              "      <td>80.000000</td>\n",
              "      <td>1.000000</td>\n",
              "      <td>0.000000</td>\n",
              "      <td>0.000000</td>\n",
              "      <td>500.000000</td>\n",
              "      <td>256.000000</td>\n",
              "      <td>5.000000</td>\n",
              "      <td>0.000000</td>\n",
              "      <td>2.000000</td>\n",
              "      <td>0.000000</td>\n",
              "      <td>0.000000</td>\n",
              "      <td>0.000000</td>\n",
              "    </tr>\n",
              "    <tr>\n",
              "      <th>25%</th>\n",
              "      <td>840.000000</td>\n",
              "      <td>0.000000</td>\n",
              "      <td>0.700000</td>\n",
              "      <td>0.000000</td>\n",
              "      <td>1.000000</td>\n",
              "      <td>0.000000</td>\n",
              "      <td>16.000000</td>\n",
              "      <td>0.200000</td>\n",
              "      <td>108.000000</td>\n",
              "      <td>3.000000</td>\n",
              "      <td>4.750000</td>\n",
              "      <td>295.750000</td>\n",
              "      <td>886.750000</td>\n",
              "      <td>1203.750000</td>\n",
              "      <td>9.000000</td>\n",
              "      <td>2.000000</td>\n",
              "      <td>6.000000</td>\n",
              "      <td>1.000000</td>\n",
              "      <td>0.000000</td>\n",
              "      <td>0.000000</td>\n",
              "    </tr>\n",
              "    <tr>\n",
              "      <th>50%</th>\n",
              "      <td>1224.000000</td>\n",
              "      <td>0.000000</td>\n",
              "      <td>1.500000</td>\n",
              "      <td>1.000000</td>\n",
              "      <td>3.000000</td>\n",
              "      <td>1.000000</td>\n",
              "      <td>31.000000</td>\n",
              "      <td>0.500000</td>\n",
              "      <td>140.000000</td>\n",
              "      <td>4.000000</td>\n",
              "      <td>10.000000</td>\n",
              "      <td>589.500000</td>\n",
              "      <td>1263.000000</td>\n",
              "      <td>2105.000000</td>\n",
              "      <td>12.000000</td>\n",
              "      <td>5.000000</td>\n",
              "      <td>11.000000</td>\n",
              "      <td>1.000000</td>\n",
              "      <td>0.000000</td>\n",
              "      <td>1.000000</td>\n",
              "    </tr>\n",
              "    <tr>\n",
              "      <th>75%</th>\n",
              "      <td>1610.250000</td>\n",
              "      <td>1.000000</td>\n",
              "      <td>2.300000</td>\n",
              "      <td>1.000000</td>\n",
              "      <td>7.000000</td>\n",
              "      <td>1.000000</td>\n",
              "      <td>48.000000</td>\n",
              "      <td>0.800000</td>\n",
              "      <td>169.250000</td>\n",
              "      <td>7.000000</td>\n",
              "      <td>15.000000</td>\n",
              "      <td>964.000000</td>\n",
              "      <td>1641.000000</td>\n",
              "      <td>2978.750000</td>\n",
              "      <td>16.000000</td>\n",
              "      <td>9.000000</td>\n",
              "      <td>16.000000</td>\n",
              "      <td>1.000000</td>\n",
              "      <td>1.000000</td>\n",
              "      <td>1.000000</td>\n",
              "    </tr>\n",
              "    <tr>\n",
              "      <th>max</th>\n",
              "      <td>1998.000000</td>\n",
              "      <td>1.000000</td>\n",
              "      <td>3.000000</td>\n",
              "      <td>1.000000</td>\n",
              "      <td>19.000000</td>\n",
              "      <td>1.000000</td>\n",
              "      <td>64.000000</td>\n",
              "      <td>1.000000</td>\n",
              "      <td>200.000000</td>\n",
              "      <td>8.000000</td>\n",
              "      <td>20.000000</td>\n",
              "      <td>1960.000000</td>\n",
              "      <td>1998.000000</td>\n",
              "      <td>3998.000000</td>\n",
              "      <td>19.000000</td>\n",
              "      <td>18.000000</td>\n",
              "      <td>20.000000</td>\n",
              "      <td>1.000000</td>\n",
              "      <td>1.000000</td>\n",
              "      <td>1.000000</td>\n",
              "    </tr>\n",
              "  </tbody>\n",
              "</table>\n",
              "</div>"
            ],
            "text/plain": [
              "       battery_power         blue  ...  touch_screen         wifi\n",
              "count    1400.000000  1400.000000  ...   1400.000000  1400.000000\n",
              "mean     1234.733571     0.494286  ...      0.493571     0.509286\n",
              "std       442.140136     0.500146  ...      0.500137     0.500092\n",
              "min       501.000000     0.000000  ...      0.000000     0.000000\n",
              "25%       840.000000     0.000000  ...      0.000000     0.000000\n",
              "50%      1224.000000     0.000000  ...      0.000000     1.000000\n",
              "75%      1610.250000     1.000000  ...      1.000000     1.000000\n",
              "max      1998.000000     1.000000  ...      1.000000     1.000000\n",
              "\n",
              "[8 rows x 20 columns]"
            ]
          },
          "metadata": {
            "tags": []
          },
          "execution_count": 16
        }
      ]
    },
    {
      "cell_type": "code",
      "metadata": {
        "id": "6wVqKCnm2-HJ",
        "colab_type": "code",
        "outputId": "b1149166-fc53-42e7-8271-fca8152c00a0",
        "colab": {
          "base_uri": "https://localhost:8080/",
          "height": 136
        }
      },
      "source": [
        "y_train.head()"
      ],
      "execution_count": 17,
      "outputs": [
        {
          "output_type": "execute_result",
          "data": {
            "text/plain": [
              "1719    0\n",
              "1702    2\n",
              "1287    3\n",
              "482     0\n",
              "768     3\n",
              "Name: price_range, dtype: category\n",
              "Categories (4, int64): [0, 1, 2, 3]"
            ]
          },
          "metadata": {
            "tags": []
          },
          "execution_count": 17
        }
      ]
    },
    {
      "cell_type": "markdown",
      "metadata": {
        "id": "RRAnVMivghTG",
        "colab_type": "text"
      },
      "source": [
        "## Análise exploratória"
      ]
    },
    {
      "cell_type": "markdown",
      "metadata": {
        "id": "NzxlHd9xgmzk",
        "colab_type": "text"
      },
      "source": [
        "### Dispersão"
      ]
    },
    {
      "cell_type": "markdown",
      "metadata": {
        "id": "XgsM8ONyCwQn",
        "colab_type": "text"
      },
      "source": [
        "#### Visualização RAM x INT_MEMORY (Internal Memory in Gigabytes) e cores comos as classes de saída (PRICE_RANGE)"
      ]
    },
    {
      "cell_type": "code",
      "metadata": {
        "id": "Q9rwaHkHI-SF",
        "colab_type": "code",
        "outputId": "310e730b-c40b-4e8f-dc70-c0caf02e6bd6",
        "colab": {
          "base_uri": "https://localhost:8080/",
          "height": 265
        }
      },
      "source": [
        "plt.scatter(x_train['ram'], x_train['int_memory'], c=y_train, cmap=plt.cm.Spectral)\n",
        "plt.show()"
      ],
      "execution_count": 18,
      "outputs": [
        {
          "output_type": "display_data",
          "data": {
            "image/png": "[encoded data removed]",
            "text/plain": [
              "<Figure size 432x288 with 1 Axes>"
            ]
          },
          "metadata": {
            "tags": [],
            "needs_background": "light"
          }
        }
      ]
    },
    {
      "cell_type": "markdown",
      "metadata": {
        "id": "sHvKLhOFDCom",
        "colab_type": "text"
      },
      "source": [
        "#### Visualização PRICE_RANGE x BATTERY_POWER e cores comos as classes de saída (PRICE_RANGE)"
      ]
    },
    {
      "cell_type": "code",
      "metadata": {
        "id": "SrYmhJOymHPn",
        "colab_type": "code",
        "outputId": "b42bc37a-88ba-4eac-e006-76f07b55c24d",
        "colab": {
          "base_uri": "https://localhost:8080/",
          "height": 319
        }
      },
      "source": [
        "df1.boxplot(column=['battery_power'], by=['price_range'])"
      ],
      "execution_count": 19,
      "outputs": [
        {
          "output_type": "execute_result",
          "data": {
            "text/plain": [
              "<matplotlib.axes._subplots.AxesSubplot at 0x7fe77b5bdc18>"
            ]
          },
          "metadata": {
            "tags": []
          },
          "execution_count": 19
        },
        {
          "output_type": "display_data",
          "data": {
            "image/png": "[encoded data removed]",
            "text/plain": [
              "<Figure size 432x288 with 1 Axes>"
            ]
          },
          "metadata": {
            "tags": [],
            "needs_background": "light"
          }
        }
      ]
    },
    {
      "cell_type": "code",
      "metadata": {
        "id": "y-rKj34W9XA_",
        "colab_type": "code",
        "outputId": "0c420552-af55-4115-f8c6-3d20fad5ae33",
        "colab": {
          "base_uri": "https://localhost:8080/",
          "height": 319
        }
      },
      "source": [
        "df1.boxplot(column = ['ram'], by= ['price_range'])"
      ],
      "execution_count": 21,
      "outputs": [
        {
          "output_type": "execute_result",
          "data": {
            "text/plain": [
              "<matplotlib.axes._subplots.AxesSubplot at 0x7fe77b449390>"
            ]
          },
          "metadata": {
            "tags": []
          },
          "execution_count": 21
        },
        {
          "output_type": "display_data",
          "data": {
            "image/png": "[encoded data removed]",
            "text/plain": [
              "<Figure size 432x288 with 1 Axes>"
            ]
          },
          "metadata": {
            "tags": [],
            "needs_background": "light"
          }
        }
      ]
    },
    {
      "cell_type": "code",
      "metadata": {
        "id": "qlkSyZZCH6dr",
        "colab_type": "code",
        "outputId": "04250c15-5821-4d5e-adf2-f194e520c735",
        "colab": {
          "base_uri": "https://localhost:8080/",
          "height": 382
        }
      },
      "source": [
        "#análise de correlação\n",
        "import seaborn as sns\n",
        "corr = df1.corr()\n",
        "sns.heatmap(corr,cmap='YlGnBu',vmin=-1,vmax=1)"
      ],
      "execution_count": 22,
      "outputs": [
        {
          "output_type": "stream",
          "text": [
            "/usr/local/lib/python3.6/dist-packages/statsmodels/tools/_testing.py:19: FutureWarning: pandas.util.testing is deprecated. Use the functions in the public API at pandas.testing instead.\n",
            "  import pandas.util.testing as tm\n"
          ],
          "name": "stderr"
        },
        {
          "output_type": "execute_result",
          "data": {
            "text/plain": [
              "<matplotlib.axes._subplots.AxesSubplot at 0x7fe77a776128>"
            ]
          },
          "metadata": {
            "tags": []
          },
          "execution_count": 22
        },
        {
          "output_type": "display_data",
          "data": {
            "image/png": "[encoded data removed]",
            "text/plain": [
              "<Figure size 432x288 with 2 Axes>"
            ]
          },
          "metadata": {
            "tags": [],
            "needs_background": "light"
          }
        }
      ]
    },
    {
      "cell_type": "code",
      "metadata": {
        "id": "vIzV-M8jshll",
        "colab_type": "code",
        "outputId": "e8cb2a4c-5856-45a5-cdf0-ee8995ae9ab8",
        "colab": {
          "base_uri": "https://localhost:8080/",
          "height": 319
        }
      },
      "source": [
        "df1.boxplot(column = ['n_cores'], by= ['price_range'])"
      ],
      "execution_count": 23,
      "outputs": [
        {
          "output_type": "execute_result",
          "data": {
            "text/plain": [
              "<matplotlib.axes._subplots.AxesSubplot at 0x7fe77b37f668>"
            ]
          },
          "metadata": {
            "tags": []
          },
          "execution_count": 23
        },
        {
          "output_type": "display_data",
          "data": {
            "image/png": "[encoded data removed]",
            "text/plain": [
              "<Figure size 432x288 with 1 Axes>"
            ]
          },
          "metadata": {
            "tags": [],
            "needs_background": "light"
          }
        }
      ]
    },
    {
      "cell_type": "markdown",
      "metadata": {
        "id": "GcNScaU2I65X",
        "colab_type": "text"
      },
      "source": [
        ""
      ]
    },
    {
      "cell_type": "markdown",
      "metadata": {
        "id": "uqbR9OgKg_nG",
        "colab_type": "text"
      },
      "source": [
        "## **Normalizando os Dados**"
      ]
    },
    {
      "cell_type": "code",
      "metadata": {
        "id": "gR7nT_CDhC-x",
        "colab_type": "code",
        "colab": {}
      },
      "source": [
        "#normalizou o teste = base\n",
        "#diminui a media divide pelo desvio padrao\n",
        "from sklearn import preprocessing\n",
        "preprocessParams = preprocessing.StandardScaler().fit(x_train)"
      ],
      "execution_count": 0,
      "outputs": []
    },
    {
      "cell_type": "code",
      "metadata": {
        "id": "sPRtrKaNhFCI",
        "colab_type": "code",
        "colab": {}
      },
      "source": [
        "X_train_normalized = preprocessParams.transform(x_train)\n",
        "X_test_normalized = preprocessParams.transform(x_test)"
      ],
      "execution_count": 0,
      "outputs": []
    },
    {
      "cell_type": "code",
      "metadata": {
        "id": "6UAPHh6UhGXG",
        "colab_type": "code",
        "colab": {}
      },
      "source": [
        "#coversão em dataframe\n",
        "X_train_normalized = pd.DataFrame(X_train_normalized, columns = x_train.columns.values)\n",
        "X_test_normalized = pd.DataFrame(X_test_normalized, columns = x_test.columns.values)"
      ],
      "execution_count": 0,
      "outputs": []
    },
    {
      "cell_type": "code",
      "metadata": {
        "id": "9UrgpToIhHd3",
        "colab_type": "code",
        "outputId": "a89d546d-6041-4bd0-9163-410d5375decb",
        "colab": {
          "base_uri": "https://localhost:8080/",
          "height": 204
        }
      },
      "source": [
        "X_train_normalized.head()"
      ],
      "execution_count": 27,
      "outputs": [
        {
          "output_type": "execute_result",
          "data": {
            "text/html": [
              "<div>\n",
              "<style scoped>\n",
              "    .dataframe tbody tr th:only-of-type {\n",
              "        vertical-align: middle;\n",
              "    }\n",
              "\n",
              "    .dataframe tbody tr th {\n",
              "        vertical-align: top;\n",
              "    }\n",
              "\n",
              "    .dataframe thead th {\n",
              "        text-align: right;\n",
              "    }\n",
              "</style>\n",
              "<table border=\"1\" class=\"dataframe\">\n",
              "  <thead>\n",
              "    <tr style=\"text-align: right;\">\n",
              "      <th></th>\n",
              "      <th>battery_power</th>\n",
              "      <th>blue</th>\n",
              "      <th>clock_speed</th>\n",
              "      <th>dual_sim</th>\n",
              "      <th>fc</th>\n",
              "      <th>four_g</th>\n",
              "      <th>int_memory</th>\n",
              "      <th>m_dep</th>\n",
              "      <th>mobile_wt</th>\n",
              "      <th>n_cores</th>\n",
              "      <th>pc</th>\n",
              "      <th>px_height</th>\n",
              "      <th>px_width</th>\n",
              "      <th>ram</th>\n",
              "      <th>sc_h</th>\n",
              "      <th>sc_w</th>\n",
              "      <th>talk_time</th>\n",
              "      <th>three_g</th>\n",
              "      <th>touch_screen</th>\n",
              "      <th>wifi</th>\n",
              "    </tr>\n",
              "  </thead>\n",
              "  <tbody>\n",
              "    <tr>\n",
              "      <th>0</th>\n",
              "      <td>-0.908936</td>\n",
              "      <td>1.011495</td>\n",
              "      <td>-1.165240</td>\n",
              "      <td>0.971825</td>\n",
              "      <td>-0.976078</td>\n",
              "      <td>0.953918</td>\n",
              "      <td>-0.262431</td>\n",
              "      <td>-0.708751</td>\n",
              "      <td>0.156934</td>\n",
              "      <td>-0.227225</td>\n",
              "      <td>-1.288998</td>\n",
              "      <td>-0.024082</td>\n",
              "      <td>0.058617</td>\n",
              "      <td>-1.412833</td>\n",
              "      <td>1.606418</td>\n",
              "      <td>0.490082</td>\n",
              "      <td>1.460875</td>\n",
              "      <td>0.555348</td>\n",
              "      <td>-0.987224</td>\n",
              "      <td>0.981598</td>\n",
              "    </tr>\n",
              "    <tr>\n",
              "      <th>1</th>\n",
              "      <td>0.428222</td>\n",
              "      <td>1.011495</td>\n",
              "      <td>1.655231</td>\n",
              "      <td>0.971825</td>\n",
              "      <td>-0.976078</td>\n",
              "      <td>-1.048308</td>\n",
              "      <td>-0.643556</td>\n",
              "      <td>0.331345</td>\n",
              "      <td>1.148140</td>\n",
              "      <td>0.212768</td>\n",
              "      <td>-1.619239</td>\n",
              "      <td>-1.076494</td>\n",
              "      <td>-0.152648</td>\n",
              "      <td>0.518068</td>\n",
              "      <td>0.645313</td>\n",
              "      <td>-1.323838</td>\n",
              "      <td>1.460875</td>\n",
              "      <td>0.555348</td>\n",
              "      <td>-0.987224</td>\n",
              "      <td>-1.018747</td>\n",
              "    </tr>\n",
              "    <tr>\n",
              "      <th>2</th>\n",
              "      <td>-0.847848</td>\n",
              "      <td>1.011495</td>\n",
              "      <td>-0.306836</td>\n",
              "      <td>0.971825</td>\n",
              "      <td>-0.743797</td>\n",
              "      <td>0.953918</td>\n",
              "      <td>0.935388</td>\n",
              "      <td>0.678044</td>\n",
              "      <td>0.043654</td>\n",
              "      <td>0.652762</td>\n",
              "      <td>0.527323</td>\n",
              "      <td>0.072614</td>\n",
              "      <td>-0.663400</td>\n",
              "      <td>1.646602</td>\n",
              "      <td>0.885589</td>\n",
              "      <td>1.850522</td>\n",
              "      <td>1.643045</td>\n",
              "      <td>0.555348</td>\n",
              "      <td>1.012941</td>\n",
              "      <td>0.981598</td>\n",
              "    </tr>\n",
              "    <tr>\n",
              "      <th>3</th>\n",
              "      <td>0.215544</td>\n",
              "      <td>1.011495</td>\n",
              "      <td>-0.306836</td>\n",
              "      <td>0.971825</td>\n",
              "      <td>2.275857</td>\n",
              "      <td>-1.048308</td>\n",
              "      <td>-1.569143</td>\n",
              "      <td>-0.708751</td>\n",
              "      <td>-1.598916</td>\n",
              "      <td>0.212768</td>\n",
              "      <td>1.187803</td>\n",
              "      <td>0.720251</td>\n",
              "      <td>-0.006388</td>\n",
              "      <td>-1.527457</td>\n",
              "      <td>0.405037</td>\n",
              "      <td>0.036602</td>\n",
              "      <td>0.003513</td>\n",
              "      <td>-1.800673</td>\n",
              "      <td>-0.987224</td>\n",
              "      <td>0.981598</td>\n",
              "    </tr>\n",
              "    <tr>\n",
              "      <th>4</th>\n",
              "      <td>-0.193975</td>\n",
              "      <td>1.011495</td>\n",
              "      <td>0.796827</td>\n",
              "      <td>-1.028992</td>\n",
              "      <td>-0.046954</td>\n",
              "      <td>-1.048308</td>\n",
              "      <td>-0.099092</td>\n",
              "      <td>-1.055450</td>\n",
              "      <td>-0.947552</td>\n",
              "      <td>0.652762</td>\n",
              "      <td>-0.793638</td>\n",
              "      <td>2.152700</td>\n",
              "      <td>0.952432</td>\n",
              "      <td>1.540365</td>\n",
              "      <td>1.125865</td>\n",
              "      <td>1.850522</td>\n",
              "      <td>-0.542997</td>\n",
              "      <td>0.555348</td>\n",
              "      <td>-0.987224</td>\n",
              "      <td>-1.018747</td>\n",
              "    </tr>\n",
              "  </tbody>\n",
              "</table>\n",
              "</div>"
            ],
            "text/plain": [
              "   battery_power      blue  clock_speed  ...   three_g  touch_screen      wifi\n",
              "0      -0.908936  1.011495    -1.165240  ...  0.555348     -0.987224  0.981598\n",
              "1       0.428222  1.011495     1.655231  ...  0.555348     -0.987224 -1.018747\n",
              "2      -0.847848  1.011495    -0.306836  ...  0.555348      1.012941  0.981598\n",
              "3       0.215544  1.011495    -0.306836  ... -1.800673     -0.987224  0.981598\n",
              "4      -0.193975  1.011495     0.796827  ...  0.555348     -0.987224 -1.018747\n",
              "\n",
              "[5 rows x 20 columns]"
            ]
          },
          "metadata": {
            "tags": []
          },
          "execution_count": 27
        }
      ]
    },
    {
      "cell_type": "code",
      "metadata": {
        "id": "FqgVjjixhIie",
        "colab_type": "code",
        "outputId": "5b10f51e-c01d-4f3d-a0b2-52f164d94837",
        "colab": {
          "base_uri": "https://localhost:8080/",
          "height": 385
        }
      },
      "source": [
        "# alguns dados estatisticos por atributo apos normalizar\n",
        "X_train_normalized.describe()"
      ],
      "execution_count": 28,
      "outputs": [
        {
          "output_type": "execute_result",
          "data": {
            "text/html": [
              "<div>\n",
              "<style scoped>\n",
              "    .dataframe tbody tr th:only-of-type {\n",
              "        vertical-align: middle;\n",
              "    }\n",
              "\n",
              "    .dataframe tbody tr th {\n",
              "        vertical-align: top;\n",
              "    }\n",
              "\n",
              "    .dataframe thead th {\n",
              "        text-align: right;\n",
              "    }\n",
              "</style>\n",
              "<table border=\"1\" class=\"dataframe\">\n",
              "  <thead>\n",
              "    <tr style=\"text-align: right;\">\n",
              "      <th></th>\n",
              "      <th>battery_power</th>\n",
              "      <th>blue</th>\n",
              "      <th>clock_speed</th>\n",
              "      <th>dual_sim</th>\n",
              "      <th>fc</th>\n",
              "      <th>four_g</th>\n",
              "      <th>int_memory</th>\n",
              "      <th>m_dep</th>\n",
              "      <th>mobile_wt</th>\n",
              "      <th>n_cores</th>\n",
              "      <th>pc</th>\n",
              "      <th>px_height</th>\n",
              "      <th>px_width</th>\n",
              "      <th>ram</th>\n",
              "      <th>sc_h</th>\n",
              "      <th>sc_w</th>\n",
              "      <th>talk_time</th>\n",
              "      <th>three_g</th>\n",
              "      <th>touch_screen</th>\n",
              "      <th>wifi</th>\n",
              "    </tr>\n",
              "  </thead>\n",
              "  <tbody>\n",
              "    <tr>\n",
              "      <th>count</th>\n",
              "      <td>1.400000e+03</td>\n",
              "      <td>1.400000e+03</td>\n",
              "      <td>1.400000e+03</td>\n",
              "      <td>1.400000e+03</td>\n",
              "      <td>1.400000e+03</td>\n",
              "      <td>1.400000e+03</td>\n",
              "      <td>1.400000e+03</td>\n",
              "      <td>1.400000e+03</td>\n",
              "      <td>1.400000e+03</td>\n",
              "      <td>1.400000e+03</td>\n",
              "      <td>1.400000e+03</td>\n",
              "      <td>1.400000e+03</td>\n",
              "      <td>1.400000e+03</td>\n",
              "      <td>1.400000e+03</td>\n",
              "      <td>1.400000e+03</td>\n",
              "      <td>1.400000e+03</td>\n",
              "      <td>1.400000e+03</td>\n",
              "      <td>1.400000e+03</td>\n",
              "      <td>1.400000e+03</td>\n",
              "      <td>1.400000e+03</td>\n",
              "    </tr>\n",
              "    <tr>\n",
              "      <th>mean</th>\n",
              "      <td>7.295751e-17</td>\n",
              "      <td>3.703387e-16</td>\n",
              "      <td>-1.035679e-16</td>\n",
              "      <td>6.248970e-17</td>\n",
              "      <td>-5.900042e-17</td>\n",
              "      <td>1.509903e-16</td>\n",
              "      <td>8.822308e-18</td>\n",
              "      <td>-1.432188e-16</td>\n",
              "      <td>3.225991e-16</td>\n",
              "      <td>1.744636e-18</td>\n",
              "      <td>1.335440e-16</td>\n",
              "      <td>1.615375e-16</td>\n",
              "      <td>1.906412e-16</td>\n",
              "      <td>-1.671679e-16</td>\n",
              "      <td>-1.562242e-16</td>\n",
              "      <td>-1.795389e-16</td>\n",
              "      <td>1.329096e-16</td>\n",
              "      <td>2.310850e-16</td>\n",
              "      <td>8.326673e-18</td>\n",
              "      <td>1.552726e-16</td>\n",
              "    </tr>\n",
              "    <tr>\n",
              "      <th>std</th>\n",
              "      <td>1.000357e+00</td>\n",
              "      <td>1.000357e+00</td>\n",
              "      <td>1.000357e+00</td>\n",
              "      <td>1.000357e+00</td>\n",
              "      <td>1.000357e+00</td>\n",
              "      <td>1.000357e+00</td>\n",
              "      <td>1.000357e+00</td>\n",
              "      <td>1.000357e+00</td>\n",
              "      <td>1.000357e+00</td>\n",
              "      <td>1.000357e+00</td>\n",
              "      <td>1.000357e+00</td>\n",
              "      <td>1.000357e+00</td>\n",
              "      <td>1.000357e+00</td>\n",
              "      <td>1.000357e+00</td>\n",
              "      <td>1.000357e+00</td>\n",
              "      <td>1.000357e+00</td>\n",
              "      <td>1.000357e+00</td>\n",
              "      <td>1.000357e+00</td>\n",
              "      <td>1.000357e+00</td>\n",
              "      <td>1.000357e+00</td>\n",
              "    </tr>\n",
              "    <tr>\n",
              "      <th>min</th>\n",
              "      <td>-1.660098e+00</td>\n",
              "      <td>-9.886360e-01</td>\n",
              "      <td>-1.287869e+00</td>\n",
              "      <td>-1.028992e+00</td>\n",
              "      <td>-9.760782e-01</td>\n",
              "      <td>-1.048308e+00</td>\n",
              "      <td>-1.623589e+00</td>\n",
              "      <td>-1.402149e+00</td>\n",
              "      <td>-1.683876e+00</td>\n",
              "      <td>-1.547205e+00</td>\n",
              "      <td>-1.619239e+00</td>\n",
              "      <td>-1.483516e+00</td>\n",
              "      <td>-1.775446e+00</td>\n",
              "      <td>-1.720361e+00</td>\n",
              "      <td>-1.757449e+00</td>\n",
              "      <td>-1.323838e+00</td>\n",
              "      <td>-1.636019e+00</td>\n",
              "      <td>-1.800673e+00</td>\n",
              "      <td>-9.872245e-01</td>\n",
              "      <td>-1.018747e+00</td>\n",
              "    </tr>\n",
              "    <tr>\n",
              "      <th>25%</th>\n",
              "      <td>-8.930983e-01</td>\n",
              "      <td>-9.886360e-01</td>\n",
              "      <td>-1.042611e+00</td>\n",
              "      <td>-1.028992e+00</td>\n",
              "      <td>-7.437971e-01</td>\n",
              "      <td>-1.048308e+00</td>\n",
              "      <td>-8.613408e-01</td>\n",
              "      <td>-1.055450e+00</td>\n",
              "      <td>-8.909117e-01</td>\n",
              "      <td>-6.672186e-01</td>\n",
              "      <td>-8.349180e-01</td>\n",
              "      <td>-8.184507e-01</td>\n",
              "      <td>-8.775675e-01</td>\n",
              "      <td>-8.371504e-01</td>\n",
              "      <td>-7.963439e-01</td>\n",
              "      <td>-8.703576e-01</td>\n",
              "      <td>-9.073378e-01</td>\n",
              "      <td>5.553478e-01</td>\n",
              "      <td>-9.872245e-01</td>\n",
              "      <td>-1.018747e+00</td>\n",
              "    </tr>\n",
              "    <tr>\n",
              "      <th>50%</th>\n",
              "      <td>-2.428508e-02</td>\n",
              "      <td>-9.886360e-01</td>\n",
              "      <td>-6.157737e-02</td>\n",
              "      <td>9.718253e-01</td>\n",
              "      <td>-2.792350e-01</td>\n",
              "      <td>9.539177e-01</td>\n",
              "      <td>-4.464598e-02</td>\n",
              "      <td>-1.535380e-02</td>\n",
              "      <td>1.533334e-02</td>\n",
              "      <td>-2.272252e-01</td>\n",
              "      <td>3.196253e-02</td>\n",
              "      <td>-1.578826e-01</td>\n",
              "      <td>-4.066114e-03</td>\n",
              "      <td>2.726480e-03</td>\n",
              "      <td>-7.551537e-02</td>\n",
              "      <td>-1.901377e-01</td>\n",
              "      <td>3.513283e-03</td>\n",
              "      <td>5.553478e-01</td>\n",
              "      <td>-9.872245e-01</td>\n",
              "      <td>9.815979e-01</td>\n",
              "    </tr>\n",
              "    <tr>\n",
              "      <th>75%</th>\n",
              "      <td>8.496189e-01</td>\n",
              "      <td>1.011495e+00</td>\n",
              "      <td>9.194561e-01</td>\n",
              "      <td>9.718253e-01</td>\n",
              "      <td>6.498892e-01</td>\n",
              "      <td>9.539177e-01</td>\n",
              "      <td>8.809415e-01</td>\n",
              "      <td>1.024742e+00</td>\n",
              "      <td>8.436980e-01</td>\n",
              "      <td>1.092755e+00</td>\n",
              "      <td>8.575631e-01</td>\n",
              "      <td>6.842715e-01</td>\n",
              "      <td>8.734980e-01</td>\n",
              "      <td>8.169761e-01</td>\n",
              "      <td>8.855893e-01</td>\n",
              "      <td>7.168222e-01</td>\n",
              "      <td>9.143644e-01</td>\n",
              "      <td>5.553478e-01</td>\n",
              "      <td>1.012941e+00</td>\n",
              "      <td>9.815979e-01</td>\n",
              "    </tr>\n",
              "    <tr>\n",
              "      <th>max</th>\n",
              "      <td>1.726917e+00</td>\n",
              "      <td>1.011495e+00</td>\n",
              "      <td>1.777860e+00</td>\n",
              "      <td>9.718253e-01</td>\n",
              "      <td>3.437262e+00</td>\n",
              "      <td>9.539177e-01</td>\n",
              "      <td>1.752083e+00</td>\n",
              "      <td>1.718140e+00</td>\n",
              "      <td>1.714543e+00</td>\n",
              "      <td>1.532748e+00</td>\n",
              "      <td>1.683164e+00</td>\n",
              "      <td>2.924019e+00</td>\n",
              "      <td>1.702309e+00</td>\n",
              "      <td>1.766817e+00</td>\n",
              "      <td>1.606418e+00</td>\n",
              "      <td>2.757482e+00</td>\n",
              "      <td>1.643045e+00</td>\n",
              "      <td>5.553478e-01</td>\n",
              "      <td>1.012941e+00</td>\n",
              "      <td>9.815979e-01</td>\n",
              "    </tr>\n",
              "  </tbody>\n",
              "</table>\n",
              "</div>"
            ],
            "text/plain": [
              "       battery_power          blue  ...  touch_screen          wifi\n",
              "count   1.400000e+03  1.400000e+03  ...  1.400000e+03  1.400000e+03\n",
              "mean    7.295751e-17  3.703387e-16  ...  8.326673e-18  1.552726e-16\n",
              "std     1.000357e+00  1.000357e+00  ...  1.000357e+00  1.000357e+00\n",
              "min    -1.660098e+00 -9.886360e-01  ... -9.872245e-01 -1.018747e+00\n",
              "25%    -8.930983e-01 -9.886360e-01  ... -9.872245e-01 -1.018747e+00\n",
              "50%    -2.428508e-02 -9.886360e-01  ... -9.872245e-01  9.815979e-01\n",
              "75%     8.496189e-01  1.011495e+00  ...  1.012941e+00  9.815979e-01\n",
              "max     1.726917e+00  1.011495e+00  ...  1.012941e+00  9.815979e-01\n",
              "\n",
              "[8 rows x 20 columns]"
            ]
          },
          "metadata": {
            "tags": []
          },
          "execution_count": 28
        }
      ]
    },
    {
      "cell_type": "markdown",
      "metadata": {
        "id": "pHdyFrdFuoTO",
        "colab_type": "text"
      },
      "source": [
        "## Construção de uma Rede Neural"
      ]
    },
    {
      "cell_type": "code",
      "metadata": {
        "id": "fQjy3PIKz7Tw",
        "colab_type": "code",
        "colab": {}
      },
      "source": [
        "#importa a rede neural\n",
        "from draw_neural_net import *"
      ],
      "execution_count": 0,
      "outputs": []
    },
    {
      "cell_type": "code",
      "metadata": {
        "id": "BGf2FJ_Su0wX",
        "colab_type": "code",
        "outputId": "bf1ec3b4-f454-4987-da7d-2f4e0b4f4080",
        "colab": {
          "base_uri": "https://localhost:8080/",
          "height": 466
        }
      },
      "source": [
        "# Simplesmente para visualização\n",
        "fig = plt.figure(figsize=(8, 8))\n",
        "ax = fig.gca()\n",
        "ax.axis('off')\n",
        "draw_neural_net(ax, .1, .9, .1, .9, [6, 5, 4])"
      ],
      "execution_count": 30,
      "outputs": [
        {
          "output_type": "display_data",
          "data": {
            "image/png": "[encoded data removed]",
            "text/plain": [
              "<Figure size 576x576 with 1 Axes>"
            ]
          },
          "metadata": {
            "tags": [],
            "needs_background": "light"
          }
        }
      ]
    },
    {
      "cell_type": "code",
      "metadata": {
        "id": "hgX9AMhS2iFy",
        "colab_type": "code",
        "outputId": "7229790a-0acf-457d-b57d-266b0fa1713a",
        "colab": {
          "base_uri": "https://localhost:8080/",
          "height": 34
        }
      },
      "source": [
        "#biblioteca keras\n",
        "from keras import Model, Sequential\n",
        "from keras.layers import Dense\n",
        "from keras.optimizers import SGD"
      ],
      "execution_count": 31,
      "outputs": [
        {
          "output_type": "stream",
          "text": [
            "Using TensorFlow backend.\n"
          ],
          "name": "stderr"
        }
      ]
    },
    {
      "cell_type": "code",
      "metadata": {
        "id": "NWXnTlz03okl",
        "colab_type": "code",
        "colab": {}
      },
      "source": [
        "numClasses = len(y_train.values.categories)"
      ],
      "execution_count": 0,
      "outputs": []
    },
    {
      "cell_type": "code",
      "metadata": {
        "id": "QyKc1qZWu9pM",
        "colab_type": "code",
        "outputId": "3cd2342b-92bf-47cf-acd2-1ac1767cf6c6",
        "colab": {
          "base_uri": "https://localhost:8080/",
          "height": 221
        }
      },
      "source": [
        "#criar arquitetura da rede neural\n",
        "RN = Sequential()\n",
        "RN.add(Dense(12,input_shape = X_train_normalized.shape[1:],activation = 'sigmoid'))\n",
        "RN.add(Dense(numClasses,activation = 'sigmoid'))\n",
        "RN.summary()"
      ],
      "execution_count": 33,
      "outputs": [
        {
          "output_type": "stream",
          "text": [
            "Model: \"sequential_1\"\n",
            "_________________________________________________________________\n",
            "Layer (type)                 Output Shape              Param #   \n",
            "=================================================================\n",
            "dense_1 (Dense)              (None, 12)                252       \n",
            "_________________________________________________________________\n",
            "dense_2 (Dense)              (None, 4)                 52        \n",
            "=================================================================\n",
            "Total params: 304\n",
            "Trainable params: 304\n",
            "Non-trainable params: 0\n",
            "_________________________________________________________________\n"
          ],
          "name": "stdout"
        }
      ]
    },
    {
      "cell_type": "code",
      "metadata": {
        "id": "X3gFJdaa3Uqe",
        "colab_type": "code",
        "outputId": "99298043-3f98-4dbe-f7fd-132dc103912e",
        "colab": {
          "base_uri": "https://localhost:8080/",
          "height": 1000
        }
      },
      "source": [
        "#treinando a rede \n",
        "from keras.utils import to_categorical\n",
        "sgd = SGD(lr=0.1, decay=1e-6, momentum=0.9)\n",
        "RN.compile(optimizer = sgd, loss = 'mean_squared_error', metrics = ['accuracy'])\n",
        "trainedRN = RN.fit(X_train_normalized,to_categorical(y_train),\n",
        "                            epochs = 100, verbose = 1)\n"
      ],
      "execution_count": 34,
      "outputs": [
        {
          "output_type": "stream",
          "text": [
            "Epoch 1/100\n",
            "1400/1400 [==============================] - 0s 175us/step - loss: 0.2144 - accuracy: 0.2650\n",
            "Epoch 2/100\n",
            "1400/1400 [==============================] - 0s 30us/step - loss: 0.1831 - accuracy: 0.3650\n",
            "Epoch 3/100\n",
            "1400/1400 [==============================] - 0s 29us/step - loss: 0.1745 - accuracy: 0.4793\n",
            "Epoch 4/100\n",
            "1400/1400 [==============================] - 0s 29us/step - loss: 0.1629 - accuracy: 0.5414\n",
            "Epoch 5/100\n",
            "1400/1400 [==============================] - 0s 31us/step - loss: 0.1494 - accuracy: 0.5779\n",
            "Epoch 6/100\n",
            "1400/1400 [==============================] - 0s 30us/step - loss: 0.1373 - accuracy: 0.6071\n",
            "Epoch 7/100\n",
            "1400/1400 [==============================] - 0s 33us/step - loss: 0.1289 - accuracy: 0.6164\n",
            "Epoch 8/100\n",
            "1400/1400 [==============================] - 0s 34us/step - loss: 0.1233 - accuracy: 0.6750\n",
            "Epoch 9/100\n",
            "1400/1400 [==============================] - 0s 31us/step - loss: 0.1195 - accuracy: 0.6979\n",
            "Epoch 10/100\n",
            "1400/1400 [==============================] - 0s 33us/step - loss: 0.1165 - accuracy: 0.7093\n",
            "Epoch 11/100\n",
            "1400/1400 [==============================] - 0s 33us/step - loss: 0.1142 - accuracy: 0.7357\n",
            "Epoch 12/100\n",
            "1400/1400 [==============================] - 0s 31us/step - loss: 0.1123 - accuracy: 0.7464\n",
            "Epoch 13/100\n",
            "1400/1400 [==============================] - 0s 31us/step - loss: 0.1106 - accuracy: 0.7679\n",
            "Epoch 14/100\n",
            "1400/1400 [==============================] - 0s 31us/step - loss: 0.1091 - accuracy: 0.7564\n",
            "Epoch 15/100\n",
            "1400/1400 [==============================] - 0s 31us/step - loss: 0.1078 - accuracy: 0.7779\n",
            "Epoch 16/100\n",
            "1400/1400 [==============================] - 0s 31us/step - loss: 0.1063 - accuracy: 0.7893\n",
            "Epoch 17/100\n",
            "1400/1400 [==============================] - 0s 32us/step - loss: 0.1050 - accuracy: 0.7936\n",
            "Epoch 18/100\n",
            "1400/1400 [==============================] - 0s 30us/step - loss: 0.1037 - accuracy: 0.7971\n",
            "Epoch 19/100\n",
            "1400/1400 [==============================] - 0s 30us/step - loss: 0.1024 - accuracy: 0.8007\n",
            "Epoch 20/100\n",
            "1400/1400 [==============================] - 0s 30us/step - loss: 0.1010 - accuracy: 0.8143\n",
            "Epoch 21/100\n",
            "1400/1400 [==============================] - 0s 30us/step - loss: 0.0997 - accuracy: 0.8193\n",
            "Epoch 22/100\n",
            "1400/1400 [==============================] - 0s 29us/step - loss: 0.0982 - accuracy: 0.8271\n",
            "Epoch 23/100\n",
            "1400/1400 [==============================] - 0s 30us/step - loss: 0.0968 - accuracy: 0.8379\n",
            "Epoch 24/100\n",
            "1400/1400 [==============================] - 0s 30us/step - loss: 0.0952 - accuracy: 0.8386\n",
            "Epoch 25/100\n",
            "1400/1400 [==============================] - 0s 34us/step - loss: 0.0935 - accuracy: 0.8443\n",
            "Epoch 26/100\n",
            "1400/1400 [==============================] - 0s 31us/step - loss: 0.0917 - accuracy: 0.8593\n",
            "Epoch 27/100\n",
            "1400/1400 [==============================] - 0s 37us/step - loss: 0.0900 - accuracy: 0.8507\n",
            "Epoch 28/100\n",
            "1400/1400 [==============================] - 0s 33us/step - loss: 0.0879 - accuracy: 0.8686\n",
            "Epoch 29/100\n",
            "1400/1400 [==============================] - 0s 30us/step - loss: 0.0859 - accuracy: 0.8721\n",
            "Epoch 30/100\n",
            "1400/1400 [==============================] - 0s 32us/step - loss: 0.0838 - accuracy: 0.8736\n",
            "Epoch 31/100\n",
            "1400/1400 [==============================] - 0s 31us/step - loss: 0.0817 - accuracy: 0.8800\n",
            "Epoch 32/100\n",
            "1400/1400 [==============================] - 0s 32us/step - loss: 0.0796 - accuracy: 0.8814\n",
            "Epoch 33/100\n",
            "1400/1400 [==============================] - 0s 30us/step - loss: 0.0774 - accuracy: 0.8821\n",
            "Epoch 34/100\n",
            "1400/1400 [==============================] - 0s 29us/step - loss: 0.0752 - accuracy: 0.8879\n",
            "Epoch 35/100\n",
            "1400/1400 [==============================] - 0s 29us/step - loss: 0.0732 - accuracy: 0.9000\n",
            "Epoch 36/100\n",
            "1400/1400 [==============================] - 0s 29us/step - loss: 0.0711 - accuracy: 0.9071\n",
            "Epoch 37/100\n",
            "1400/1400 [==============================] - 0s 31us/step - loss: 0.0690 - accuracy: 0.9086\n",
            "Epoch 38/100\n",
            "1400/1400 [==============================] - 0s 30us/step - loss: 0.0671 - accuracy: 0.9157\n",
            "Epoch 39/100\n",
            "1400/1400 [==============================] - 0s 31us/step - loss: 0.0650 - accuracy: 0.9214\n",
            "Epoch 40/100\n",
            "1400/1400 [==============================] - 0s 31us/step - loss: 0.0630 - accuracy: 0.9314\n",
            "Epoch 41/100\n",
            "1400/1400 [==============================] - 0s 30us/step - loss: 0.0614 - accuracy: 0.9264\n",
            "Epoch 42/100\n",
            "1400/1400 [==============================] - 0s 31us/step - loss: 0.0595 - accuracy: 0.9336\n",
            "Epoch 43/100\n",
            "1400/1400 [==============================] - 0s 30us/step - loss: 0.0578 - accuracy: 0.9321\n",
            "Epoch 44/100\n",
            "1400/1400 [==============================] - 0s 30us/step - loss: 0.0561 - accuracy: 0.9429\n",
            "Epoch 45/100\n",
            "1400/1400 [==============================] - 0s 30us/step - loss: 0.0545 - accuracy: 0.9436\n",
            "Epoch 46/100\n",
            "1400/1400 [==============================] - 0s 30us/step - loss: 0.0530 - accuracy: 0.9450\n",
            "Epoch 47/100\n",
            "1400/1400 [==============================] - 0s 29us/step - loss: 0.0516 - accuracy: 0.9471\n",
            "Epoch 48/100\n",
            "1400/1400 [==============================] - 0s 29us/step - loss: 0.0501 - accuracy: 0.9557\n",
            "Epoch 49/100\n",
            "1400/1400 [==============================] - 0s 30us/step - loss: 0.0488 - accuracy: 0.9529\n",
            "Epoch 50/100\n",
            "1400/1400 [==============================] - 0s 29us/step - loss: 0.0475 - accuracy: 0.9529\n",
            "Epoch 51/100\n",
            "1400/1400 [==============================] - 0s 30us/step - loss: 0.0465 - accuracy: 0.9536\n",
            "Epoch 52/100\n",
            "1400/1400 [==============================] - 0s 30us/step - loss: 0.0452 - accuracy: 0.9564\n",
            "Epoch 53/100\n",
            "1400/1400 [==============================] - 0s 29us/step - loss: 0.0440 - accuracy: 0.9607\n",
            "Epoch 54/100\n",
            "1400/1400 [==============================] - 0s 35us/step - loss: 0.0430 - accuracy: 0.9614\n",
            "Epoch 55/100\n",
            "1400/1400 [==============================] - 0s 33us/step - loss: 0.0419 - accuracy: 0.9650\n",
            "Epoch 56/100\n",
            "1400/1400 [==============================] - 0s 35us/step - loss: 0.0410 - accuracy: 0.9671\n",
            "Epoch 57/100\n",
            "1400/1400 [==============================] - 0s 31us/step - loss: 0.0401 - accuracy: 0.9621\n",
            "Epoch 58/100\n",
            "1400/1400 [==============================] - 0s 30us/step - loss: 0.0392 - accuracy: 0.9664\n",
            "Epoch 59/100\n",
            "1400/1400 [==============================] - 0s 31us/step - loss: 0.0382 - accuracy: 0.9729\n",
            "Epoch 60/100\n",
            "1400/1400 [==============================] - 0s 29us/step - loss: 0.0375 - accuracy: 0.9650\n",
            "Epoch 61/100\n",
            "1400/1400 [==============================] - 0s 30us/step - loss: 0.0367 - accuracy: 0.9657\n",
            "Epoch 62/100\n",
            "1400/1400 [==============================] - 0s 32us/step - loss: 0.0360 - accuracy: 0.9721\n",
            "Epoch 63/100\n",
            "1400/1400 [==============================] - 0s 30us/step - loss: 0.0352 - accuracy: 0.9714\n",
            "Epoch 64/100\n",
            "1400/1400 [==============================] - 0s 30us/step - loss: 0.0346 - accuracy: 0.9686\n",
            "Epoch 65/100\n",
            "1400/1400 [==============================] - 0s 30us/step - loss: 0.0339 - accuracy: 0.9686\n",
            "Epoch 66/100\n",
            "1400/1400 [==============================] - 0s 31us/step - loss: 0.0333 - accuracy: 0.9736\n",
            "Epoch 67/100\n",
            "1400/1400 [==============================] - 0s 33us/step - loss: 0.0326 - accuracy: 0.9679\n",
            "Epoch 68/100\n",
            "1400/1400 [==============================] - 0s 32us/step - loss: 0.0321 - accuracy: 0.9729\n",
            "Epoch 69/100\n",
            "1400/1400 [==============================] - 0s 30us/step - loss: 0.0315 - accuracy: 0.9721\n",
            "Epoch 70/100\n",
            "1400/1400 [==============================] - 0s 29us/step - loss: 0.0309 - accuracy: 0.9729\n",
            "Epoch 71/100\n",
            "1400/1400 [==============================] - 0s 31us/step - loss: 0.0304 - accuracy: 0.9757\n",
            "Epoch 72/100\n",
            "1400/1400 [==============================] - 0s 30us/step - loss: 0.0299 - accuracy: 0.9750\n",
            "Epoch 73/100\n",
            "1400/1400 [==============================] - 0s 29us/step - loss: 0.0294 - accuracy: 0.9736\n",
            "Epoch 74/100\n",
            "1400/1400 [==============================] - 0s 31us/step - loss: 0.0289 - accuracy: 0.9750\n",
            "Epoch 75/100\n",
            "1400/1400 [==============================] - 0s 30us/step - loss: 0.0286 - accuracy: 0.9764\n",
            "Epoch 76/100\n",
            "1400/1400 [==============================] - 0s 36us/step - loss: 0.0280 - accuracy: 0.9757\n",
            "Epoch 77/100\n",
            "1400/1400 [==============================] - 0s 31us/step - loss: 0.0276 - accuracy: 0.9771\n",
            "Epoch 78/100\n",
            "1400/1400 [==============================] - 0s 31us/step - loss: 0.0272 - accuracy: 0.9750\n",
            "Epoch 79/100\n",
            "1400/1400 [==============================] - 0s 31us/step - loss: 0.0268 - accuracy: 0.9757\n",
            "Epoch 80/100\n",
            "1400/1400 [==============================] - 0s 30us/step - loss: 0.0265 - accuracy: 0.9750\n",
            "Epoch 81/100\n",
            "1400/1400 [==============================] - 0s 34us/step - loss: 0.0261 - accuracy: 0.9750\n",
            "Epoch 82/100\n",
            "1400/1400 [==============================] - 0s 30us/step - loss: 0.0257 - accuracy: 0.9764\n",
            "Epoch 83/100\n",
            "1400/1400 [==============================] - 0s 30us/step - loss: 0.0254 - accuracy: 0.9757\n",
            "Epoch 84/100\n",
            "1400/1400 [==============================] - 0s 29us/step - loss: 0.0250 - accuracy: 0.9786\n",
            "Epoch 85/100\n",
            "1400/1400 [==============================] - 0s 29us/step - loss: 0.0247 - accuracy: 0.9750\n",
            "Epoch 86/100\n",
            "1400/1400 [==============================] - 0s 34us/step - loss: 0.0244 - accuracy: 0.9779\n",
            "Epoch 87/100\n",
            "1400/1400 [==============================] - 0s 31us/step - loss: 0.0241 - accuracy: 0.9757\n",
            "Epoch 88/100\n",
            "1400/1400 [==============================] - 0s 30us/step - loss: 0.0238 - accuracy: 0.9786\n",
            "Epoch 89/100\n",
            "1400/1400 [==============================] - 0s 30us/step - loss: 0.0235 - accuracy: 0.9771\n",
            "Epoch 90/100\n",
            "1400/1400 [==============================] - 0s 30us/step - loss: 0.0231 - accuracy: 0.9764\n",
            "Epoch 91/100\n",
            "1400/1400 [==============================] - 0s 31us/step - loss: 0.0229 - accuracy: 0.9757\n",
            "Epoch 92/100\n",
            "1400/1400 [==============================] - 0s 30us/step - loss: 0.0226 - accuracy: 0.9779\n",
            "Epoch 93/100\n",
            "1400/1400 [==============================] - 0s 30us/step - loss: 0.0224 - accuracy: 0.9779\n",
            "Epoch 94/100\n",
            "1400/1400 [==============================] - 0s 30us/step - loss: 0.0222 - accuracy: 0.9771\n",
            "Epoch 95/100\n",
            "1400/1400 [==============================] - 0s 29us/step - loss: 0.0218 - accuracy: 0.9771\n",
            "Epoch 96/100\n",
            "1400/1400 [==============================] - 0s 30us/step - loss: 0.0216 - accuracy: 0.9793\n",
            "Epoch 97/100\n",
            "1400/1400 [==============================] - 0s 30us/step - loss: 0.0214 - accuracy: 0.9786\n",
            "Epoch 98/100\n",
            "1400/1400 [==============================] - 0s 29us/step - loss: 0.0212 - accuracy: 0.9771\n",
            "Epoch 99/100\n",
            "1400/1400 [==============================] - 0s 33us/step - loss: 0.0209 - accuracy: 0.9793\n",
            "Epoch 100/100\n",
            "1400/1400 [==============================] - 0s 31us/step - loss: 0.0208 - accuracy: 0.9814\n"
          ],
          "name": "stdout"
        }
      ]
    },
    {
      "cell_type": "code",
      "metadata": {
        "id": "GnNwc3h40MZP",
        "colab_type": "code",
        "outputId": "a4912e1b-c8ee-4dc2-c647-ded9068afd3b",
        "colab": {
          "base_uri": "https://localhost:8080/",
          "height": 51
        }
      },
      "source": [
        "score = trainedRN.model.evaluate(X_test_normalized, to_categorical(y_test), verbose = 0)\n",
        "print('Test score:', score[0])\n",
        "print('Test accuracy:', score[1])"
      ],
      "execution_count": 35,
      "outputs": [
        {
          "output_type": "stream",
          "text": [
            "Test score: 0.024818164880077043\n",
            "Test accuracy: 0.9649999737739563\n"
          ],
          "name": "stdout"
        }
      ]
    },
    {
      "cell_type": "code",
      "metadata": {
        "id": "H99c-50g4le0",
        "colab_type": "code",
        "outputId": "4aa7ba41-7157-432b-cf97-a620cf09937e",
        "colab": {
          "base_uri": "https://localhost:8080/",
          "height": 295
        }
      },
      "source": [
        "PlotHistory(trainedRN.history)"
      ],
      "execution_count": 36,
      "outputs": [
        {
          "output_type": "display_data",
          "data": {
            "image/png": "[encoded data removed]",
            "text/plain": [
              "<Figure size 432x288 with 1 Axes>"
            ]
          },
          "metadata": {
            "tags": [],
            "needs_background": "light"
          }
        }
      ]
    },
    {
      "cell_type": "code",
      "metadata": {
        "id": "HQZjGb0UZvnl",
        "colab_type": "code",
        "outputId": "a83b07b5-eae6-4a13-9f93-adc61ee0ecfd",
        "colab": {
          "base_uri": "https://localhost:8080/",
          "height": 204
        }
      },
      "source": [
        "# criando a matriz de confusão:\n",
        "from sklearn.metrics import confusion_matrix\n",
        "y_test_predicted = RN.predict(X_test_normalized)\n",
        "\n",
        "pd.DataFrame(y_test_predicted).head()"
      ],
      "execution_count": 37,
      "outputs": [
        {
          "output_type": "execute_result",
          "data": {
            "text/html": [
              "<div>\n",
              "<style scoped>\n",
              "    .dataframe tbody tr th:only-of-type {\n",
              "        vertical-align: middle;\n",
              "    }\n",
              "\n",
              "    .dataframe tbody tr th {\n",
              "        vertical-align: top;\n",
              "    }\n",
              "\n",
              "    .dataframe thead th {\n",
              "        text-align: right;\n",
              "    }\n",
              "</style>\n",
              "<table border=\"1\" class=\"dataframe\">\n",
              "  <thead>\n",
              "    <tr style=\"text-align: right;\">\n",
              "      <th></th>\n",
              "      <th>0</th>\n",
              "      <th>1</th>\n",
              "      <th>2</th>\n",
              "      <th>3</th>\n",
              "    </tr>\n",
              "  </thead>\n",
              "  <tbody>\n",
              "    <tr>\n",
              "      <th>0</th>\n",
              "      <td>0.000008</td>\n",
              "      <td>0.005450</td>\n",
              "      <td>0.166413</td>\n",
              "      <td>8.798989e-01</td>\n",
              "    </tr>\n",
              "    <tr>\n",
              "      <th>1</th>\n",
              "      <td>0.977219</td>\n",
              "      <td>0.042724</td>\n",
              "      <td>0.001339</td>\n",
              "      <td>4.783295e-07</td>\n",
              "    </tr>\n",
              "    <tr>\n",
              "      <th>2</th>\n",
              "      <td>0.000157</td>\n",
              "      <td>0.148073</td>\n",
              "      <td>0.805168</td>\n",
              "      <td>7.273406e-03</td>\n",
              "    </tr>\n",
              "    <tr>\n",
              "      <th>3</th>\n",
              "      <td>0.000387</td>\n",
              "      <td>0.321364</td>\n",
              "      <td>0.652545</td>\n",
              "      <td>3.333330e-03</td>\n",
              "    </tr>\n",
              "    <tr>\n",
              "      <th>4</th>\n",
              "      <td>0.000020</td>\n",
              "      <td>0.009663</td>\n",
              "      <td>0.431642</td>\n",
              "      <td>5.606343e-01</td>\n",
              "    </tr>\n",
              "  </tbody>\n",
              "</table>\n",
              "</div>"
            ],
            "text/plain": [
              "          0         1         2             3\n",
              "0  0.000008  0.005450  0.166413  8.798989e-01\n",
              "1  0.977219  0.042724  0.001339  4.783295e-07\n",
              "2  0.000157  0.148073  0.805168  7.273406e-03\n",
              "3  0.000387  0.321364  0.652545  3.333330e-03\n",
              "4  0.000020  0.009663  0.431642  5.606343e-01"
            ]
          },
          "metadata": {
            "tags": []
          },
          "execution_count": 37
        }
      ]
    },
    {
      "cell_type": "code",
      "metadata": {
        "id": "vR-6GtTe1UKg",
        "colab_type": "code",
        "outputId": "624a0ad1-1254-4312-9ed7-ded6e41933c6",
        "colab": {
          "base_uri": "https://localhost:8080/",
          "height": 204
        }
      },
      "source": [
        "\n",
        "y_test_predicted_indexes = np.argmax(y_test_predicted,axis=1)\n",
        "y_test_indexes = np.array(y_test)\n",
        "pd.DataFrame(y_test_predicted_indexes).head()"
      ],
      "execution_count": 43,
      "outputs": [
        {
          "output_type": "execute_result",
          "data": {
            "text/html": [
              "<div>\n",
              "<style scoped>\n",
              "    .dataframe tbody tr th:only-of-type {\n",
              "        vertical-align: middle;\n",
              "    }\n",
              "\n",
              "    .dataframe tbody tr th {\n",
              "        vertical-align: top;\n",
              "    }\n",
              "\n",
              "    .dataframe thead th {\n",
              "        text-align: right;\n",
              "    }\n",
              "</style>\n",
              "<table border=\"1\" class=\"dataframe\">\n",
              "  <thead>\n",
              "    <tr style=\"text-align: right;\">\n",
              "      <th></th>\n",
              "      <th>0</th>\n",
              "    </tr>\n",
              "  </thead>\n",
              "  <tbody>\n",
              "    <tr>\n",
              "      <th>0</th>\n",
              "      <td>3</td>\n",
              "    </tr>\n",
              "    <tr>\n",
              "      <th>1</th>\n",
              "      <td>0</td>\n",
              "    </tr>\n",
              "    <tr>\n",
              "      <th>2</th>\n",
              "      <td>2</td>\n",
              "    </tr>\n",
              "    <tr>\n",
              "      <th>3</th>\n",
              "      <td>2</td>\n",
              "    </tr>\n",
              "    <tr>\n",
              "      <th>4</th>\n",
              "      <td>3</td>\n",
              "    </tr>\n",
              "  </tbody>\n",
              "</table>\n",
              "</div>"
            ],
            "text/plain": [
              "   0\n",
              "0  3\n",
              "1  0\n",
              "2  2\n",
              "3  2\n",
              "4  3"
            ]
          },
          "metadata": {
            "tags": []
          },
          "execution_count": 43
        }
      ]
    },
    {
      "cell_type": "code",
      "metadata": {
        "id": "4L2wZ70RFzcH",
        "colab_type": "code",
        "colab": {
          "base_uri": "https://localhost:8080/",
          "height": 204
        },
        "outputId": "ef4e9648-ceff-4a21-8e7d-1b6c503fd7c9"
      },
      "source": [
        "confMatrix = pd.DataFrame(confusion_matrix(y_test_predicted_indexes, y_test_indexes), \n",
        "                                           index=['0', '1','2','3'], columns=['0', '1', '2', '3'],) #matriz de confusão\n",
        "confMatrix.index.name = 'Actual'\n",
        "confMatrix.columns.name = 'Predicted'\n",
        "pd.DataFrame(confMatrix).head()"
      ],
      "execution_count": 45,
      "outputs": [
        {
          "output_type": "execute_result",
          "data": {
            "text/html": [
              "<div>\n",
              "<style scoped>\n",
              "    .dataframe tbody tr th:only-of-type {\n",
              "        vertical-align: middle;\n",
              "    }\n",
              "\n",
              "    .dataframe tbody tr th {\n",
              "        vertical-align: top;\n",
              "    }\n",
              "\n",
              "    .dataframe thead th {\n",
              "        text-align: right;\n",
              "    }\n",
              "</style>\n",
              "<table border=\"1\" class=\"dataframe\">\n",
              "  <thead>\n",
              "    <tr style=\"text-align: right;\">\n",
              "      <th>Predicted</th>\n",
              "      <th>0</th>\n",
              "      <th>1</th>\n",
              "      <th>2</th>\n",
              "      <th>3</th>\n",
              "    </tr>\n",
              "    <tr>\n",
              "      <th>Actual</th>\n",
              "      <th></th>\n",
              "      <th></th>\n",
              "      <th></th>\n",
              "      <th></th>\n",
              "    </tr>\n",
              "  </thead>\n",
              "  <tbody>\n",
              "    <tr>\n",
              "      <th>0</th>\n",
              "      <td>149</td>\n",
              "      <td>7</td>\n",
              "      <td>0</td>\n",
              "      <td>0</td>\n",
              "    </tr>\n",
              "    <tr>\n",
              "      <th>1</th>\n",
              "      <td>2</td>\n",
              "      <td>125</td>\n",
              "      <td>3</td>\n",
              "      <td>0</td>\n",
              "    </tr>\n",
              "    <tr>\n",
              "      <th>2</th>\n",
              "      <td>0</td>\n",
              "      <td>3</td>\n",
              "      <td>143</td>\n",
              "      <td>1</td>\n",
              "    </tr>\n",
              "    <tr>\n",
              "      <th>3</th>\n",
              "      <td>0</td>\n",
              "      <td>0</td>\n",
              "      <td>5</td>\n",
              "      <td>162</td>\n",
              "    </tr>\n",
              "  </tbody>\n",
              "</table>\n",
              "</div>"
            ],
            "text/plain": [
              "Predicted    0    1    2    3\n",
              "Actual                       \n",
              "0          149    7    0    0\n",
              "1            2  125    3    0\n",
              "2            0    3  143    1\n",
              "3            0    0    5  162"
            ]
          },
          "metadata": {
            "tags": []
          },
          "execution_count": 45
        }
      ]
    }
  ]
}
